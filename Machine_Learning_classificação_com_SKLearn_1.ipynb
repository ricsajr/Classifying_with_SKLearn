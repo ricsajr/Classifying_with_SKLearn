{
  "nbformat": 4,
  "nbformat_minor": 0,
  "metadata": {
    "colab": {
      "provenance": [],
      "toc_visible": true,
      "gpuType": "T4",
      "authorship_tag": "ABX9TyNNfRGznKlBsoBJ7n4DQ7mU",
      "include_colab_link": true
    },
    "kernelspec": {
      "name": "python3",
      "display_name": "Python 3"
    },
    "language_info": {
      "name": "python"
    },
    "accelerator": "GPU",
    "gpuClass": "standard"
  },
  "cells": [
    {
      "cell_type": "markdown",
      "metadata": {
        "id": "view-in-github",
        "colab_type": "text"
      },
      "source": [
        "<a href=\"https://colab.research.google.com/github/ricsajr/MachineLearning/blob/main/Machine_Learning_classifica%C3%A7%C3%A3o_com_SKLearn_1.ipynb\" target=\"_parent\"><img src=\"https://colab.research.google.com/assets/colab-badge.svg\" alt=\"Open In Colab\"/></a>"
      ]
    },
    {
      "cell_type": "markdown",
      "source": [
        "Primeiro modelo de classificação com SKLearn"
      ],
      "metadata": {
        "id": "PjhZFnJBbwkD"
      }
    },
    {
      "cell_type": "code",
      "execution_count": null,
      "metadata": {
        "id": "Rd42qPx1QlcQ"
      },
      "outputs": [],
      "source": [
        "from operator import xor\n",
        "#features\n",
        "#pelo é longo?\n",
        "#perna é curta?\n",
        "#faz auau?\n",
        "porco1 = [0, 1, 0]\n",
        "porco2 = [0, 1, 1]\n",
        "porco3 = [1, 1, 0]\n",
        "\n",
        "\n",
        "cachorro1 = [0, 1, 1]\n",
        "cachorro2 = [1, 0, 1]\n",
        "cachorro3 = [1, 1, 1]\n",
        "\n",
        "treino_x = [porco1, porco2, porco3, cachorro1, cachorro2, cachorro3]\n",
        "treino_y = [1,1,1,0,0,0] # classes ou labels ( onde porcos serao 1 e cachorro serao 0)"
      ]
    },
    {
      "cell_type": "code",
      "source": [
        "from sklearn.svm import LinearSVC\n",
        "#instancio o estimador\n",
        "model = LinearSVC()\n",
        "#peço que ele aprenda (crie um modelo) com os dados, onde em caso de aprendizado supervisionado, que é o nosso caso,\n",
        "#passo os dados e as classes as quais eles pertencem\n",
        "model.fit(treino_x, treino_y)"
      ],
      "metadata": {
        "colab": {
          "base_uri": "https://localhost:8080/",
          "height": 75
        },
        "id": "OQKW5a7KUdld",
        "outputId": "ae1e9258-e4e7-4206-fad2-07165528c33f"
      },
      "execution_count": null,
      "outputs": [
        {
          "output_type": "execute_result",
          "data": {
            "text/plain": [
              "LinearSVC()"
            ],
            "text/html": [
              "<style>#sk-container-id-1 {color: black;background-color: white;}#sk-container-id-1 pre{padding: 0;}#sk-container-id-1 div.sk-toggleable {background-color: white;}#sk-container-id-1 label.sk-toggleable__label {cursor: pointer;display: block;width: 100%;margin-bottom: 0;padding: 0.3em;box-sizing: border-box;text-align: center;}#sk-container-id-1 label.sk-toggleable__label-arrow:before {content: \"▸\";float: left;margin-right: 0.25em;color: #696969;}#sk-container-id-1 label.sk-toggleable__label-arrow:hover:before {color: black;}#sk-container-id-1 div.sk-estimator:hover label.sk-toggleable__label-arrow:before {color: black;}#sk-container-id-1 div.sk-toggleable__content {max-height: 0;max-width: 0;overflow: hidden;text-align: left;background-color: #f0f8ff;}#sk-container-id-1 div.sk-toggleable__content pre {margin: 0.2em;color: black;border-radius: 0.25em;background-color: #f0f8ff;}#sk-container-id-1 input.sk-toggleable__control:checked~div.sk-toggleable__content {max-height: 200px;max-width: 100%;overflow: auto;}#sk-container-id-1 input.sk-toggleable__control:checked~label.sk-toggleable__label-arrow:before {content: \"▾\";}#sk-container-id-1 div.sk-estimator input.sk-toggleable__control:checked~label.sk-toggleable__label {background-color: #d4ebff;}#sk-container-id-1 div.sk-label input.sk-toggleable__control:checked~label.sk-toggleable__label {background-color: #d4ebff;}#sk-container-id-1 input.sk-hidden--visually {border: 0;clip: rect(1px 1px 1px 1px);clip: rect(1px, 1px, 1px, 1px);height: 1px;margin: -1px;overflow: hidden;padding: 0;position: absolute;width: 1px;}#sk-container-id-1 div.sk-estimator {font-family: monospace;background-color: #f0f8ff;border: 1px dotted black;border-radius: 0.25em;box-sizing: border-box;margin-bottom: 0.5em;}#sk-container-id-1 div.sk-estimator:hover {background-color: #d4ebff;}#sk-container-id-1 div.sk-parallel-item::after {content: \"\";width: 100%;border-bottom: 1px solid gray;flex-grow: 1;}#sk-container-id-1 div.sk-label:hover label.sk-toggleable__label {background-color: #d4ebff;}#sk-container-id-1 div.sk-serial::before {content: \"\";position: absolute;border-left: 1px solid gray;box-sizing: border-box;top: 0;bottom: 0;left: 50%;z-index: 0;}#sk-container-id-1 div.sk-serial {display: flex;flex-direction: column;align-items: center;background-color: white;padding-right: 0.2em;padding-left: 0.2em;position: relative;}#sk-container-id-1 div.sk-item {position: relative;z-index: 1;}#sk-container-id-1 div.sk-parallel {display: flex;align-items: stretch;justify-content: center;background-color: white;position: relative;}#sk-container-id-1 div.sk-item::before, #sk-container-id-1 div.sk-parallel-item::before {content: \"\";position: absolute;border-left: 1px solid gray;box-sizing: border-box;top: 0;bottom: 0;left: 50%;z-index: -1;}#sk-container-id-1 div.sk-parallel-item {display: flex;flex-direction: column;z-index: 1;position: relative;background-color: white;}#sk-container-id-1 div.sk-parallel-item:first-child::after {align-self: flex-end;width: 50%;}#sk-container-id-1 div.sk-parallel-item:last-child::after {align-self: flex-start;width: 50%;}#sk-container-id-1 div.sk-parallel-item:only-child::after {width: 0;}#sk-container-id-1 div.sk-dashed-wrapped {border: 1px dashed gray;margin: 0 0.4em 0.5em 0.4em;box-sizing: border-box;padding-bottom: 0.4em;background-color: white;}#sk-container-id-1 div.sk-label label {font-family: monospace;font-weight: bold;display: inline-block;line-height: 1.2em;}#sk-container-id-1 div.sk-label-container {text-align: center;}#sk-container-id-1 div.sk-container {/* jupyter's `normalize.less` sets `[hidden] { display: none; }` but bootstrap.min.css set `[hidden] { display: none !important; }` so we also need the `!important` here to be able to override the default hidden behavior on the sphinx rendered scikit-learn.org. See: https://github.com/scikit-learn/scikit-learn/issues/21755 */display: inline-block !important;position: relative;}#sk-container-id-1 div.sk-text-repr-fallback {display: none;}</style><div id=\"sk-container-id-1\" class=\"sk-top-container\"><div class=\"sk-text-repr-fallback\"><pre>LinearSVC()</pre><b>In a Jupyter environment, please rerun this cell to show the HTML representation or trust the notebook. <br />On GitHub, the HTML representation is unable to render, please try loading this page with nbviewer.org.</b></div><div class=\"sk-container\" hidden><div class=\"sk-item\"><div class=\"sk-estimator sk-toggleable\"><input class=\"sk-toggleable__control sk-hidden--visually\" id=\"sk-estimator-id-1\" type=\"checkbox\" checked><label for=\"sk-estimator-id-1\" class=\"sk-toggleable__label sk-toggleable__label-arrow\">LinearSVC</label><div class=\"sk-toggleable__content\"><pre>LinearSVC()</pre></div></div></div></div></div>"
            ]
          },
          "metadata": {},
          "execution_count": 2
        }
      ]
    },
    {
      "cell_type": "code",
      "source": [
        "animal_misterioso = [1, 1, 1]\n",
        "\n",
        "#pedindo a previsão (devo passar uma lista, ainda que exista apenas um item)\n",
        "model.predict([animal_misterioso])\n",
        "#o resultado será provavelmente 0, que significa cachorro"
      ],
      "metadata": {
        "colab": {
          "base_uri": "https://localhost:8080/"
        },
        "id": "C_14Jh8hWQi1",
        "outputId": "a74b48b1-321f-423b-dcee-5b11f4019e1e"
      },
      "execution_count": null,
      "outputs": [
        {
          "output_type": "execute_result",
          "data": {
            "text/plain": [
              "array([0])"
            ]
          },
          "metadata": {},
          "execution_count": 3
        }
      ]
    },
    {
      "cell_type": "code",
      "source": [
        "#neste cenário \"forçaremos\" um erro, pois o terceiro item é previamente reconhecido por nós como um porco que late)\n",
        "misterio1 = [1, 1, 1]\n",
        "misterio2 = [1, 1, 0]\n",
        "misterio3 = [0, 1, 1]\n",
        "\n",
        "teste_x = [misterio1, misterio2, misterio3]\n",
        "#aqui temos os valores reais que deveriam ser retornados (classes/labels atrelados a cada um dos itens)\n",
        "teste_y = [0, 1, 1]"
      ],
      "metadata": {
        "id": "EYZjQNkjXRYb"
      },
      "execution_count": null,
      "outputs": []
    },
    {
      "cell_type": "code",
      "source": [
        "previsoes = model.predict(teste_x)"
      ],
      "metadata": {
        "id": "ffvjuCVudq35"
      },
      "execution_count": null,
      "outputs": []
    },
    {
      "cell_type": "code",
      "source": [
        "#somando o numero de verdadeiros\n",
        "corretos = (previsoes == teste_y).sum()\n",
        "#total é o tamanho oe teste_x\n",
        "total = len(teste_x)\n",
        "taxa_de_acerto = corretos/total\n",
        "# * 100 para converter para porcentagem\n",
        "print(\"Taxa de acerto %.2f\" %(taxa_de_acerto * 100))"
      ],
      "metadata": {
        "colab": {
          "base_uri": "https://localhost:8080/"
        },
        "id": "ZzZ3JvxFZA60",
        "outputId": "c7b974e0-5f22-4cbb-e036-efb54ef57854"
      },
      "execution_count": null,
      "outputs": [
        {
          "output_type": "stream",
          "name": "stdout",
          "text": [
            "Taxa de acerto 66.67\n"
          ]
        }
      ]
    },
    {
      "cell_type": "code",
      "source": [
        "# porém o sklearn já possui ferramentas para medir a taxa de acertos (accuracy)\n",
        "from sklearn.metrics import accuracy_score\n",
        "#parâmetros a serem passados (valores verdadeiros, previsoes)\n",
        "taxa_de_acerto = accuracy_score(teste_y, previsoes)\n",
        "print(\"Taxa de acerto %.2f\" %(taxa_de_acerto * 100))"
      ],
      "metadata": {
        "colab": {
          "base_uri": "https://localhost:8080/"
        },
        "id": "QziGKVMKZpQn",
        "outputId": "864bd084-4304-413d-f9ba-bce477a2e0f9"
      },
      "execution_count": null,
      "outputs": [
        {
          "output_type": "stream",
          "name": "stdout",
          "text": [
            "Taxa de acerto 66.67\n"
          ]
        }
      ]
    },
    {
      "cell_type": "code",
      "source": [],
      "metadata": {
        "id": "Z-iGod7ObkCo"
      },
      "execution_count": null,
      "outputs": []
    }
  ]
}