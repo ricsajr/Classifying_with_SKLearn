Primeiro modelo de classificação com SKLearn
from operator import xor
#features
#pelo é longo?
#perna é curta?
#faz auau?
porco1 = [0, 1, 0]
porco2 = [0, 1, 1]
porco3 = [1, 1, 0]


cachorro1 = [0, 1, 1]
cachorro2 = [1, 0, 1]
cachorro3 = [1, 1, 1]

treino_x = [porco1, porco2, porco3, cachorro1, cachorro2, cachorro3]
treino_y = [1,1,1,0,0,0] # classes ou labels ( onde porcos serao 1 e cachorro serao 0)
from sklearn.svm import LinearSVC
#instancio o estimador
model = LinearSVC()
#peço que ele aprenda (crie um modelo) com os dados, onde em caso de aprendizado supervisionado, que é o nosso caso,
#passo os dados e as classes as quais eles pertencem
model.fit(treino_x, treino_y)
animal_misterioso = [1, 1, 1]

#pedindo a previsão (devo passar uma lista, ainda que exista apenas um item)
model.predict([animal_misterioso])
#o resultado será provavelmente 0, que significa cachorro
#neste cenário "forçaremos" um erro, pois o terceiro item é previamente reconhecido por nós como um porco que late)
misterio1 = [1, 1, 1]
misterio2 = [1, 1, 0]
misterio3 = [0, 1, 1]

teste_x = [misterio1, misterio2, misterio3]
#aqui temos os valores reais que deveriam ser retornados (classes/labels atrelados a cada um dos itens)
teste_y = [0, 1, 1]
previsoes = model.predict(teste_x)
#somando o numero de verdadeiros
corretos = (previsoes == teste_y).sum()
#total é o tamanho oe teste_x
total = len(teste_x)
taxa_de_acerto = corretos/total
# * 100 para converter para porcentagem
print("Taxa de acerto %.2f" %(taxa_de_acerto * 100))
# porém o sklearn já possui ferramentas para medir a taxa de acertos (accuracy)
from sklearn.metrics import accuracy_score
#parâmetros a serem passados (valores verdadeiros, previsoes)
taxa_de_acerto = accuracy_score(teste_y, previsoes)
print("Taxa de acerto %.2f" %(taxa_de_acerto * 100))
