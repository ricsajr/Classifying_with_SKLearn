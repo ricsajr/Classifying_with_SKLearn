{
 "cells": [
  {
   "cell_type": "code",
   "execution_count": null,
   "metadata": {},
   "outputs": [],
   "source": [
    "#Primeiro modelo de classificação com SKLearn\n",
    "from operator import xor\n",
    "#features\n",
    "#pelo é longo?\n",
    "#perna é curta?\n",
    "#faz auau?\n",
    "porco1 = [0, 1, 0]\n",
    "porco2 = [0, 1, 1]\n",
    "porco3 = [1, 1, 0]\n",
    "\n",
    "\n",
    "cachorro1 = [0, 1, 1]\n",
    "cachorro2 = [1, 0, 1]\n",
    "cachorro3 = [1, 1, 1]\n",
    "\n",
    "treino_x = [porco1, porco2, porco3, cachorro1, cachorro2, cachorro3]\n",
    "treino_y = [1,1,1,0,0,0] # classes ou labels ( onde porcos serao 1 e cachorro serao 0)\n",
    "from sklearn.svm import LinearSVC\n",
    "#instancio o estimador\n",
    "model = LinearSVC()\n",
    "#peço que ele aprenda (crie um modelo) com os dados, onde em caso de aprendizado supervisionado, que é o nosso caso,\n",
    "#passo os dados e as classes as quais eles pertencem\n",
    "model.fit(treino_x, treino_y)\n",
    "animal_misterioso = [1, 1, 1]\n",
    "\n",
    "#pedindo a previsão (devo passar uma lista, ainda que exista apenas um item)\n",
    "model.predict([animal_misterioso])\n",
    "#o resultado será provavelmente 0, que significa cachorro\n",
    "#neste cenário \"forçaremos\" um erro, pois o terceiro item é previamente reconhecido por nós como um porco que late)\n",
    "misterio1 = [1, 1, 1]\n",
    "misterio2 = [1, 1, 0]\n",
    "misterio3 = [0, 1, 1]\n",
    "\n",
    "teste_x = [misterio1, misterio2, misterio3]\n",
    "#aqui temos os valores reais que deveriam ser retornados (classes/labels atrelados a cada um dos itens)\n",
    "teste_y = [0, 1, 1]\n",
    "previsoes = model.predict(teste_x)\n",
    "#somando o numero de verdadeiros\n",
    "corretos = (previsoes == teste_y).sum()\n",
    "#total é o tamanho oe teste_x\n",
    "total = len(teste_x)\n",
    "taxa_de_acerto = corretos/total\n",
    "# * 100 para converter para porcentagem\n",
    "print(\"Taxa de acerto %.2f\" %(taxa_de_acerto * 100))\n",
    "# porém o sklearn já possui ferramentas para medir a taxa de acertos (accuracy)\n",
    "from sklearn.metrics import accuracy_score\n",
    "#parâmetros a serem passados (valores verdadeiros, previsoes)\n",
    "taxa_de_acerto = accuracy_score(teste_y, previsoes)\n",
    "print(\"Taxa de acerto %.2f\" %(taxa_de_acerto * 100))\n"
   ]
  }
 ],
 "metadata": {
  "kernelspec": {
   "display_name": "Python 3",
   "language": "python",
   "name": "python3"
  },
  "language_info": {
   "codemirror_mode": {
    "name": "ipython",
    "version": 3
   },
   "file_extension": ".py",
   "mimetype": "text/x-python",
   "name": "python",
   "nbconvert_exporter": "python",
   "pygments_lexer": "ipython3",
   "version": "3.10.6"
  },
  "orig_nbformat": 4
 },
 "nbformat": 4,
 "nbformat_minor": 2
}
